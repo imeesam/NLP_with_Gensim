{
 "cells": [
  {
   "cell_type": "code",
   "execution_count": 34,
   "id": "55e7f2a9",
   "metadata": {},
   "outputs": [],
   "source": [
    "import gensim\n",
    "# it a better NLP libary (these are not used for big application, transformers models are use like (BERT , RoBERT) etc for the NLP purposes)\n",
    "import pandas as pd"
   ]
  },
  {
   "cell_type": "code",
   "execution_count": 1,
   "id": "c48765cc",
   "metadata": {},
   "outputs": [],
   "source": [
    "# data set : http://snap.stanford.edu/data/amazon/productGraph/categoryFiles/reviews_Cell_Phones_and_Accessories_5.json.gz"
   ]
  },
  {
   "cell_type": "code",
   "execution_count": 4,
   "id": "abd65f9a-f06c-49fb-9f59-b8c7a311ed22",
   "metadata": {},
   "outputs": [],
   "source": [
    "import urllib.request\n",
    "import gzip"
   ]
  },
  {
   "cell_type": "code",
   "execution_count": 3,
   "id": "c7af2b01-8a1d-44a4-8f3a-2c0493f7bcd5",
   "metadata": {},
   "outputs": [],
   "source": [
    "url = \"http://snap.stanford.edu/data/amazon/productGraph/categoryFiles/reviews_Cell_Phones_and_Accessories_5.json.gz\""
   ]
  },
  {
   "cell_type": "code",
   "execution_count": 5,
   "id": "bdb9dd5a-c672-473c-8062-0a7d8b80aa66",
   "metadata": {},
   "outputs": [
    {
     "data": {
      "text/plain": [
       "('reviews_Cell_Phones_and_Accessories_5.json.gz',\n",
       " <http.client.HTTPMessage at 0x1a8685287a0>)"
      ]
     },
     "execution_count": 5,
     "metadata": {},
     "output_type": "execute_result"
    }
   ],
   "source": [
    "url = \"http://snap.stanford.edu/data/amazon/productGraph/categoryFiles/reviews_Cell_Phones_and_Accessories_5.json.gz\"\n",
    "compressed_file = \"reviews_Cell_Phones_and_Accessories_5.json.gz\"\n",
    "# Download\n",
    "urllib.request.urlretrieve(url, compressed_file)\n"
   ]
  },
  {
   "cell_type": "code",
   "execution_count": 9,
   "id": "4d35cea0-6e2b-45d3-8432-f9342e83e0bd",
   "metadata": {},
   "outputs": [],
   "source": [
    "df = pd.read_json('Cell_Phones_and_Accessories_5.json', lines=True)\n"
   ]
  },
  {
   "cell_type": "code",
   "execution_count": 10,
   "id": "25846dd3-aadb-46f9-86f0-f574178a7387",
   "metadata": {},
   "outputs": [
    {
     "data": {
      "text/html": [
       "<div>\n",
       "<style scoped>\n",
       "    .dataframe tbody tr th:only-of-type {\n",
       "        vertical-align: middle;\n",
       "    }\n",
       "\n",
       "    .dataframe tbody tr th {\n",
       "        vertical-align: top;\n",
       "    }\n",
       "\n",
       "    .dataframe thead th {\n",
       "        text-align: right;\n",
       "    }\n",
       "</style>\n",
       "<table border=\"1\" class=\"dataframe\">\n",
       "  <thead>\n",
       "    <tr style=\"text-align: right;\">\n",
       "      <th></th>\n",
       "      <th>reviewerID</th>\n",
       "      <th>asin</th>\n",
       "      <th>reviewerName</th>\n",
       "      <th>helpful</th>\n",
       "      <th>reviewText</th>\n",
       "      <th>overall</th>\n",
       "      <th>summary</th>\n",
       "      <th>unixReviewTime</th>\n",
       "      <th>reviewTime</th>\n",
       "    </tr>\n",
       "  </thead>\n",
       "  <tbody>\n",
       "    <tr>\n",
       "      <th>0</th>\n",
       "      <td>A30TL5EWN6DFXT</td>\n",
       "      <td>120401325X</td>\n",
       "      <td>christina</td>\n",
       "      <td>[0, 0]</td>\n",
       "      <td>They look good and stick good! I just don't li...</td>\n",
       "      <td>4</td>\n",
       "      <td>Looks Good</td>\n",
       "      <td>1400630400</td>\n",
       "      <td>05 21, 2014</td>\n",
       "    </tr>\n",
       "    <tr>\n",
       "      <th>1</th>\n",
       "      <td>ASY55RVNIL0UD</td>\n",
       "      <td>120401325X</td>\n",
       "      <td>emily l.</td>\n",
       "      <td>[0, 0]</td>\n",
       "      <td>These stickers work like the review says they ...</td>\n",
       "      <td>5</td>\n",
       "      <td>Really great product.</td>\n",
       "      <td>1389657600</td>\n",
       "      <td>01 14, 2014</td>\n",
       "    </tr>\n",
       "  </tbody>\n",
       "</table>\n",
       "</div>"
      ],
      "text/plain": [
       "       reviewerID        asin reviewerName helpful  \\\n",
       "0  A30TL5EWN6DFXT  120401325X    christina  [0, 0]   \n",
       "1   ASY55RVNIL0UD  120401325X     emily l.  [0, 0]   \n",
       "\n",
       "                                          reviewText  overall  \\\n",
       "0  They look good and stick good! I just don't li...        4   \n",
       "1  These stickers work like the review says they ...        5   \n",
       "\n",
       "                 summary  unixReviewTime   reviewTime  \n",
       "0             Looks Good      1400630400  05 21, 2014  \n",
       "1  Really great product.      1389657600  01 14, 2014  "
      ]
     },
     "execution_count": 10,
     "metadata": {},
     "output_type": "execute_result"
    }
   ],
   "source": [
    "df.head(2)"
   ]
  },
  {
   "cell_type": "code",
   "execution_count": 11,
   "id": "37085589-1cc1-47c2-aedc-941a466abcf1",
   "metadata": {},
   "outputs": [
    {
     "data": {
      "text/plain": [
       "'These stickers work like the review says they do. They stick on great and they stay on the phone. They are super stylish and I can share them with my sister. :)'"
      ]
     },
     "execution_count": 11,
     "metadata": {},
     "output_type": "execute_result"
    }
   ],
   "source": [
    "df.reviewText[1]"
   ]
  },
  {
   "cell_type": "markdown",
   "id": "0a78cb42-6783-4fca-80a9-b69657f11076",
   "metadata": {},
   "source": [
    "this function will preprocess means it will tokenizing the words (remove puncuatations, words like the,a , lower the case  )"
   ]
  },
  {
   "cell_type": "code",
   "execution_count": 31,
   "id": "e916e186-816e-4c88-9822-ce448704fd5d",
   "metadata": {},
   "outputs": [
    {
     "data": {
      "text/plain": [
       "(194439,)"
      ]
     },
     "execution_count": 31,
     "metadata": {},
     "output_type": "execute_result"
    }
   ],
   "source": [
    "df.reviewText.shape"
   ]
  },
  {
   "cell_type": "code",
   "execution_count": 13,
   "id": "3c6229c6-2e9d-4701-9a7c-409135c8dfd4",
   "metadata": {},
   "outputs": [
    {
     "data": {
      "text/plain": [
       "['these',\n",
       " 'stickers',\n",
       " 'work',\n",
       " 'like',\n",
       " 'the',\n",
       " 'review',\n",
       " 'says',\n",
       " 'they',\n",
       " 'do',\n",
       " 'they',\n",
       " 'stick',\n",
       " 'on',\n",
       " 'great',\n",
       " 'and',\n",
       " 'they',\n",
       " 'stay',\n",
       " 'on',\n",
       " 'the',\n",
       " 'phone',\n",
       " 'they',\n",
       " 'are',\n",
       " 'super',\n",
       " 'stylish',\n",
       " 'and',\n",
       " 'can',\n",
       " 'share',\n",
       " 'them',\n",
       " 'with',\n",
       " 'my',\n",
       " 'sister']"
      ]
     },
     "execution_count": 13,
     "metadata": {},
     "output_type": "execute_result"
    }
   ],
   "source": [
    "gensim.utils.simple_preprocess('These stickers work like the review says they do. They stick on great and they stay on the phone. They are super stylish and I can share them with my sister. :)')"
   ]
  },
  {
   "cell_type": "code",
   "execution_count": 14,
   "id": "d110ce22-46b6-4892-92ae-6a9488c7ce6d",
   "metadata": {},
   "outputs": [
    {
     "data": {
      "text/plain": [
       "0         [they, look, good, and, stick, good, just, don...\n",
       "1         [these, stickers, work, like, the, review, say...\n",
       "2         [these, are, awesome, and, make, my, phone, lo...\n",
       "3         [item, arrived, in, great, time, and, was, in,...\n",
       "4         [awesome, stays, on, and, looks, great, can, b...\n",
       "                                ...                        \n",
       "194434    [works, great, just, like, my, original, one, ...\n",
       "194435    [great, product, great, packaging, high, quali...\n",
       "194436    [this, is, great, cable, just, as, good, as, t...\n",
       "194437    [really, like, it, becasue, it, works, well, w...\n",
       "194438    [product, as, described, have, wasted, lot, of...\n",
       "Name: reviewText, Length: 194439, dtype: object"
      ]
     },
     "execution_count": 14,
     "metadata": {},
     "output_type": "execute_result"
    }
   ],
   "source": [
    "review_text = df.reviewText.apply(gensim.utils.simple_preprocess)\n",
    "review_text"
   ]
  },
  {
   "cell_type": "code",
   "execution_count": 22,
   "id": "0eb786be-69f7-4bd9-b52f-017e11f5d9c1",
   "metadata": {},
   "outputs": [],
   "source": [
    "model = gensim.models.Word2Vec(\n",
    "    window = 10,\n",
    "    min_count = 2 ,\n",
    "    workers = 4\n",
    "    )\n",
    "\n",
    "# buliding model where windows mean select window of 10 before and after a word,\n",
    "# workers mean how many core of CPU you want to use , min_count means that atleast how many aleast you want in a sentence"
   ]
  },
  {
   "cell_type": "markdown",
   "id": "b817589b-a6c8-4cc8-b507-14f2ecf05ba3",
   "metadata": {},
   "source": [
    "building vocabulary means buliding  set of unique words "
   ]
  },
  {
   "cell_type": "code",
   "execution_count": 23,
   "id": "f3b99a58-6bec-4706-bac8-5c375432927a",
   "metadata": {},
   "outputs": [],
   "source": [
    "model.build_vocab(review_text , progress_per=10000)  # building set of unique words "
   ]
  },
  {
   "cell_type": "code",
   "execution_count": 24,
   "id": "e636d69a-1814-459e-bd37-27fe56146e60",
   "metadata": {},
   "outputs": [
    {
     "data": {
      "text/plain": [
       "5"
      ]
     },
     "execution_count": 24,
     "metadata": {},
     "output_type": "execute_result"
    }
   ],
   "source": [
    "model.epochs  # iteration"
   ]
  },
  {
   "cell_type": "code",
   "execution_count": 26,
   "id": "c8d336f5-f3ef-46e3-a00d-067db87a3f13",
   "metadata": {},
   "outputs": [
    {
     "data": {
      "text/plain": [
       "194439"
      ]
     },
     "execution_count": 26,
     "metadata": {},
     "output_type": "execute_result"
    }
   ],
   "source": [
    "model.corpus_count # total example we have in the dataset"
   ]
  },
  {
   "cell_type": "code",
   "execution_count": 27,
   "id": "5da679d1-d965-408b-be9d-c17509ff33f3",
   "metadata": {},
   "outputs": [
    {
     "data": {
      "text/plain": [
       "(61507117, 83868975)"
      ]
     },
     "execution_count": 27,
     "metadata": {},
     "output_type": "execute_result"
    }
   ],
   "source": [
    "model.train(review_text, total_examples = model.corpus_count , epochs = model.epochs)"
   ]
  },
  {
   "cell_type": "code",
   "execution_count": 28,
   "id": "684e7c58-e310-4776-ae48-bc40bb5b640a",
   "metadata": {},
   "outputs": [],
   "source": [
    "model.save('./word2vec_amazon_reviews_short.model')"
   ]
  },
  {
   "cell_type": "markdown",
   "id": "4699b7a7-bce7-4ec0-ba4f-02b1b617f04d",
   "metadata": {},
   "source": [
    "# Similar Words"
   ]
  },
  {
   "cell_type": "code",
   "execution_count": 32,
   "id": "8202e1de-b59d-47fc-8639-129f7c5bcbfc",
   "metadata": {},
   "outputs": [
    {
     "data": {
      "text/plain": [
       "[('terrible', 0.6867750883102417),\n",
       " ('shabby', 0.6488574147224426),\n",
       " ('sad', 0.5821951031684875),\n",
       " ('good', 0.5801129341125488),\n",
       " ('horrible', 0.5792787075042725),\n",
       " ('keen', 0.5518565773963928),\n",
       " ('legit', 0.5517846345901489),\n",
       " ('okay', 0.5389410257339478),\n",
       " ('awful', 0.526655912399292),\n",
       " ('mad', 0.5194727182388306)]"
      ]
     },
     "execution_count": 32,
     "metadata": {},
     "output_type": "execute_result"
    }
   ],
   "source": [
    "model.wv.most_similar(\"bad\") # it will provide list of words similar to bad"
   ]
  },
  {
   "cell_type": "markdown",
   "id": "a0b86730-210a-4fb9-9413-71d478c819ff",
   "metadata": {},
   "source": [
    "# cosine similarity "
   ]
  },
  {
   "cell_type": "code",
   "execution_count": 33,
   "id": "695ed096-f184-4bf6-b663-a313833e65c6",
   "metadata": {},
   "outputs": [
    {
     "data": {
      "text/plain": [
       "0.8946582"
      ]
     },
     "execution_count": 33,
     "metadata": {},
     "output_type": "execute_result"
    }
   ],
   "source": [
    "model.wv.similarity(w1= 'terrible' , w2='horrible')"
   ]
  },
  {
   "cell_type": "code",
   "execution_count": null,
   "id": "4205148e-6c09-4887-9ab2-0e81c8ff093a",
   "metadata": {},
   "outputs": [],
   "source": []
  }
 ],
 "metadata": {
  "kernelspec": {
   "display_name": "Python 3 (ipykernel)",
   "language": "python",
   "name": "python3"
  },
  "language_info": {
   "codemirror_mode": {
    "name": "ipython",
    "version": 3
   },
   "file_extension": ".py",
   "mimetype": "text/x-python",
   "name": "python",
   "nbconvert_exporter": "python",
   "pygments_lexer": "ipython3",
   "version": "3.12.7"
  }
 },
 "nbformat": 4,
 "nbformat_minor": 5
}
